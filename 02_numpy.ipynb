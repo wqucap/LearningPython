{
 "cells": [
  {
   "cell_type": "markdown",
   "id": "275290a8",
   "metadata": {},
   "source": [
    "#Libraries for secientific research"
   ]
  },
  {
   "cell_type": "code",
   "execution_count": 2,
   "id": "7059e718",
   "metadata": {},
   "outputs": [],
   "source": [
    "import numpy"
   ]
  },
  {
   "cell_type": "code",
   "execution_count": 4,
   "id": "2f6febe7",
   "metadata": {
    "scrolled": true
   },
   "outputs": [
    {
     "data": {
      "text/plain": [
       "array([[0., 0., 1., ..., 3., 0., 0.],\n",
       "       [0., 1., 2., ..., 1., 0., 1.],\n",
       "       [0., 1., 1., ..., 2., 1., 1.],\n",
       "       ...,\n",
       "       [0., 1., 1., ..., 1., 1., 1.],\n",
       "       [0., 0., 0., ..., 0., 2., 0.],\n",
       "       [0., 0., 1., ..., 1., 1., 0.]])"
      ]
     },
     "execution_count": 4,
     "metadata": {},
     "output_type": "execute_result"
    }
   ],
   "source": [
    "numpy.loadtxt(fname = 'data/inflammation-01.csv', delimiter = ',')"
   ]
  },
  {
   "cell_type": "code",
   "execution_count": 5,
   "id": "fa0a6b04",
   "metadata": {},
   "outputs": [],
   "source": [
    "arthritis = numpy.loadtxt(fname = 'data/inflammation-01.csv', delimiter = ',')"
   ]
  },
  {
   "cell_type": "code",
   "execution_count": 7,
   "id": "bfeba430",
   "metadata": {},
   "outputs": [
    {
     "name": "stdout",
     "output_type": "stream",
     "text": [
      "[[0. 0. 1. ... 3. 0. 0.]\n",
      " [0. 1. 2. ... 1. 0. 1.]\n",
      " [0. 1. 1. ... 2. 1. 1.]\n",
      " ...\n",
      " [0. 1. 1. ... 1. 1. 1.]\n",
      " [0. 0. 0. ... 0. 2. 0.]\n",
      " [0. 0. 1. ... 1. 1. 0.]]\n"
     ]
    }
   ],
   "source": [
    "print(arthritis)"
   ]
  },
  {
   "cell_type": "code",
   "execution_count": 8,
   "id": "5b8cc8e9",
   "metadata": {},
   "outputs": [
    {
     "name": "stdout",
     "output_type": "stream",
     "text": [
      "<class 'numpy.ndarray'>\n"
     ]
    }
   ],
   "source": [
    "print(type(arthritis))"
   ]
  },
  {
   "cell_type": "markdown",
   "id": "eb27fe0c",
   "metadata": {},
   "source": [
    "Attributes(adjetives)"
   ]
  },
  {
   "cell_type": "code",
   "execution_count": 10,
   "id": "db424e1d",
   "metadata": {},
   "outputs": [
    {
     "name": "stdout",
     "output_type": "stream",
     "text": [
      "float64\n",
      "(60, 40)\n"
     ]
    }
   ],
   "source": [
    "print(arthritis.dtype)\n",
    "print(arthritis.shape)"
   ]
  },
  {
   "cell_type": "code",
   "execution_count": 12,
   "id": "7adad76c",
   "metadata": {},
   "outputs": [
    {
     "name": "stdout",
     "output_type": "stream",
     "text": [
      "First value in arthritis: 0.0\n"
     ]
    }
   ],
   "source": [
    "print(\"First value in arthritis:\", arthritis[0,0])"
   ]
  },
  {
   "cell_type": "code",
   "execution_count": 14,
   "id": "c06e2c9e",
   "metadata": {},
   "outputs": [
    {
     "name": "stdout",
     "output_type": "stream",
     "text": [
      "middle value 13.0\n"
     ]
    }
   ],
   "source": [
    "print(\"middle value\", arthritis[30,20])"
   ]
  },
  {
   "cell_type": "code",
   "execution_count": 16,
   "id": "9c9f91d7",
   "metadata": {},
   "outputs": [
    {
     "name": "stdout",
     "output_type": "stream",
     "text": [
      "[[0. 0. 1. 3. 1. 2. 4. 7. 8. 3.]\n",
      " [0. 1. 2. 1. 2. 1. 3. 2. 2. 6.]\n",
      " [0. 1. 1. 3. 3. 2. 6. 2. 5. 9.]\n",
      " [0. 0. 2. 0. 4. 2. 2. 1. 6. 7.]]\n"
     ]
    }
   ],
   "source": [
    "print(arthritis[0:4, 0:10])"
   ]
  },
  {
   "cell_type": "code",
   "execution_count": 20,
   "id": "bdd92189",
   "metadata": {},
   "outputs": [
    {
     "name": "stdout",
     "output_type": "stream",
     "text": [
      "[[0. 0. 1. 2. 2. 4. 2. 1. 6. 4.]\n",
      " [0. 0. 2. 2. 4. 2. 2. 5. 5. 8.]\n",
      " [0. 0. 1. 2. 3. 1. 2. 3. 5. 3.]\n",
      " [0. 0. 0. 3. 1. 5. 6. 5. 5. 8.]\n",
      " [0. 1. 1. 2. 1. 3. 5. 3. 5. 8.]]\n"
     ]
    }
   ],
   "source": [
    "print(arthritis[5:10, 0:10])"
   ]
  },
  {
   "cell_type": "code",
   "execution_count": 22,
   "id": "133c7f60",
   "metadata": {},
   "outputs": [
    {
     "name": "stdout",
     "output_type": "stream",
     "text": [
      "[[2. 3. 0. 0.]\n",
      " [1. 1. 0. 1.]\n",
      " [2. 2. 1. 1.]]\n"
     ]
    }
   ],
   "source": [
    "corner = arthritis[:3, 36:]\n",
    "print(corner)"
   ]
  },
  {
   "cell_type": "markdown",
   "id": "e2f88d5d",
   "metadata": {},
   "source": [
    "Exercise"
   ]
  },
  {
   "cell_type": "code",
   "execution_count": 24,
   "id": "271b8ec0",
   "metadata": {},
   "outputs": [
    {
     "data": {
      "text/plain": [
       "'xy'"
      ]
     },
     "execution_count": 24,
     "metadata": {},
     "output_type": "execute_result"
    }
   ],
   "source": [
    "\"oxygen\"[1:3]"
   ]
  },
  {
   "cell_type": "markdown",
   "id": "a1738a3b",
   "metadata": {},
   "source": [
    "Operations"
   ]
  },
  {
   "cell_type": "code",
   "execution_count": 26,
   "id": "a92e8cf6",
   "metadata": {},
   "outputs": [],
   "source": [
    "double_arthritis = arthritis*2"
   ]
  },
  {
   "cell_type": "code",
   "execution_count": 28,
   "id": "f187d64e",
   "metadata": {},
   "outputs": [
    {
     "name": "stdout",
     "output_type": "stream",
     "text": [
      "original\n",
      "[[2. 3. 0. 0.]\n",
      " [1. 1. 0. 1.]\n",
      " [2. 2. 1. 1.]]\n",
      "double\n",
      "[[4. 6. 0. 0.]\n",
      " [2. 2. 0. 2.]\n",
      " [4. 4. 2. 2.]]\n"
     ]
    }
   ],
   "source": [
    "print(\"original\")\n",
    "print(arthritis[:3,36:])\n",
    "print(\"double\")\n",
    "print(double_arthritis[:3,36:])"
   ]
  },
  {
   "cell_type": "code",
   "execution_count": 31,
   "id": "4794178d",
   "metadata": {},
   "outputs": [
    {
     "name": "stdout",
     "output_type": "stream",
     "text": [
      "[[6. 9. 0. 0.]\n",
      " [3. 3. 0. 3.]\n",
      " [6. 6. 3. 3.]]\n"
     ]
    }
   ],
   "source": [
    "triple_arthritis = double_arthritis + arthritis\n",
    "print(triple_arthritis[:3, 36:])"
   ]
  },
  {
   "cell_type": "markdown",
   "id": "b29451eb",
   "metadata": {},
   "source": [
    "#Methods(verbs)"
   ]
  },
  {
   "cell_type": "code",
   "execution_count": 32,
   "id": "b18c5710",
   "metadata": {},
   "outputs": [
    {
     "name": "stdout",
     "output_type": "stream",
     "text": [
      "6.14875\n"
     ]
    }
   ],
   "source": [
    "print(arthritis.mean())"
   ]
  },
  {
   "cell_type": "code",
   "execution_count": 34,
   "id": "20bfec05",
   "metadata": {},
   "outputs": [
    {
     "name": "stdout",
     "output_type": "stream",
     "text": [
      "maximum inflammation 20.0\n",
      "minimum inflammation 0.0\n",
      "standard deviation 4.613833197118566\n"
     ]
    }
   ],
   "source": [
    "print(\"maximum inflammation\",arthritis.max())\n",
    "print(\"minimum inflammation\",arthritis.min())\n",
    "print(\"standard deviation\",arthritis.std())\n"
   ]
  },
  {
   "cell_type": "code",
   "execution_count": 36,
   "id": "cea47d98",
   "metadata": {},
   "outputs": [
    {
     "data": {
      "text/plain": [
       "2400"
      ]
     },
     "execution_count": 36,
     "metadata": {},
     "output_type": "execute_result"
    }
   ],
   "source": [
    "arthritis.size"
   ]
  },
  {
   "cell_type": "code",
   "execution_count": 38,
   "id": "e1230df4",
   "metadata": {},
   "outputs": [
    {
     "name": "stdout",
     "output_type": "stream",
     "text": [
      "maximum inflammation for patient 0 : 18.0\n"
     ]
    }
   ],
   "source": [
    "patient_0 = arthritis[0,:]\n",
    "print(\"maximum inflammation for patient 0 :\", patient_0.max())\n"
   ]
  },
  {
   "cell_type": "code",
   "execution_count": 40,
   "id": "84f0021f",
   "metadata": {},
   "outputs": [
    {
     "data": {
      "text/plain": [
       "array([ 0.,  0.,  1.,  3.,  1.,  2.,  4.,  7.,  8.,  3.,  3.,  3., 10.,\n",
       "        5.,  7.,  4.,  7.,  7., 12., 18.,  6., 13., 11., 11.,  7.,  7.,\n",
       "        4.,  6.,  8.,  8.,  4.,  4.,  5.,  7.,  3.,  4.,  2.,  3.,  0.,\n",
       "        0.])"
      ]
     },
     "execution_count": 40,
     "metadata": {},
     "output_type": "execute_result"
    }
   ],
   "source": [
    "patient_0"
   ]
  },
  {
   "cell_type": "code",
   "execution_count": 42,
   "id": "08881359",
   "metadata": {},
   "outputs": [
    {
     "data": {
      "text/plain": [
       "array([[0., 0., 1., ..., 3., 0., 0.],\n",
       "       [0., 1., 2., ..., 1., 0., 1.],\n",
       "       [0., 1., 1., ..., 2., 1., 1.],\n",
       "       ...,\n",
       "       [0., 1., 1., ..., 1., 1., 1.],\n",
       "       [0., 0., 0., ..., 0., 2., 0.],\n",
       "       [0., 0., 1., ..., 1., 1., 0.]])"
      ]
     },
     "execution_count": 42,
     "metadata": {},
     "output_type": "execute_result"
    }
   ],
   "source": [
    "arthritis"
   ]
  },
  {
   "cell_type": "code",
   "execution_count": 46,
   "id": "6989e245",
   "metadata": {},
   "outputs": [
    {
     "name": "stdout",
     "output_type": "stream",
     "text": [
      "maximum inflammmation ofr patient 2: 19.0\n"
     ]
    }
   ],
   "source": [
    "print(\"maximum inflammmation ofr patient 2:\", arthritis[2,:].max())"
   ]
  },
  {
   "cell_type": "code",
   "execution_count": 48,
   "id": "afe66745",
   "metadata": {},
   "outputs": [
    {
     "name": "stdout",
     "output_type": "stream",
     "text": [
      "[18. 18. 19. 17. 17. 18. 17. 20. 17. 18. 18. 18. 17. 16. 17. 18. 19. 19.\n",
      " 17. 19. 19. 16. 17. 15. 17. 17. 18. 17. 20. 17. 16. 19. 15. 15. 19. 17.\n",
      " 16. 17. 19. 16. 18. 19. 16. 19. 18. 16. 19. 15. 16. 18. 14. 20. 17. 15.\n",
      " 17. 16. 17. 19. 18. 18.]\n"
     ]
    }
   ],
   "source": [
    "print(arthritis.max(axis=1))"
   ]
  },
  {
   "cell_type": "code",
   "execution_count": 50,
   "id": "5b3b9b2b",
   "metadata": {},
   "outputs": [
    {
     "name": "stdout",
     "output_type": "stream",
     "text": [
      "[ 0.  1.  2.  3.  4.  5.  6.  7.  8.  9. 10. 11. 12. 13. 14. 15. 16. 17.\n",
      " 18. 19. 20. 19. 18. 17. 16. 15. 14. 13. 12. 11. 10.  9.  8.  7.  6.  5.\n",
      "  4.  3.  2.  1.]\n"
     ]
    }
   ],
   "source": [
    "print(arthritis.max(axis=0))"
   ]
  },
  {
   "cell_type": "code",
   "execution_count": 52,
   "id": "d0045e96",
   "metadata": {},
   "outputs": [
    {
     "name": "stdout",
     "output_type": "stream",
     "text": [
      "(60,)\n",
      "(40,)\n"
     ]
    }
   ],
   "source": [
    "print(arthritis.max(axis=1).shape)\n",
    "print(arthritis.max(axis=0).shape)"
   ]
  },
  {
   "cell_type": "code",
   "execution_count": 60,
   "id": "b111bf28",
   "metadata": {},
   "outputs": [
    {
     "name": "stdout",
     "output_type": "stream",
     "text": [
      "the average of the standard deviation for all the pattient\n",
      "4.579294680644961\n"
     ]
    }
   ],
   "source": [
    "print(\"the average of the standard deviation for all the pattient\")\n",
    "print ( arthritis.std(axis=1).mean())"
   ]
  }
 ],
 "metadata": {
  "kernelspec": {
   "display_name": "Python 3 (ipykernel)",
   "language": "python",
   "name": "python3"
  },
  "language_info": {
   "codemirror_mode": {
    "name": "ipython",
    "version": 3
   },
   "file_extension": ".py",
   "mimetype": "text/x-python",
   "name": "python",
   "nbconvert_exporter": "python",
   "pygments_lexer": "ipython3",
   "version": "3.9.12"
  }
 },
 "nbformat": 4,
 "nbformat_minor": 5
}
